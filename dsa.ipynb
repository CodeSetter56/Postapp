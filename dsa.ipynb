{
  "nbformat": 4,
  "nbformat_minor": 0,
  "metadata": {
    "colab": {
      "provenance": [],
      "authorship_tag": "ABX9TyM6pAMmMlzGJ6oTakui43gQ",
      "include_colab_link": true
    },
    "kernelspec": {
      "name": "python3",
      "display_name": "Python 3"
    },
    "language_info": {
      "name": "python"
    }
  },
  "cells": [
    {
      "cell_type": "markdown",
      "metadata": {
        "id": "view-in-github",
        "colab_type": "text"
      },
      "source": [
        "<a href=\"https://colab.research.google.com/github/CodeSetter56/Postapp/blob/main/dsa.ipynb\" target=\"_parent\"><img src=\"https://colab.research.google.com/assets/colab-badge.svg\" alt=\"Open In Colab\"/></a>"
      ]
    },
    {
      "cell_type": "markdown",
      "source": [
        "pattern"
      ],
      "metadata": {
        "id": "0FMwp9ZbXMfs"
      }
    },
    {
      "cell_type": "code",
      "execution_count": null,
      "metadata": {
        "colab": {
          "base_uri": "https://localhost:8080/"
        },
        "id": "h40V3YpA8OLa",
        "outputId": "6ac2480e-f4ca-4663-b904-541661c7c185"
      },
      "outputs": [
        {
          "output_type": "stream",
          "name": "stdout",
          "text": [
            "* * * * * * * \n",
            "  * * * * * \n",
            "    * * * \n",
            "      * \n"
          ]
        }
      ],
      "source": [
        "n=4\n",
        "for  i in range(n):\n",
        "  for j in range(i):\n",
        "    print(\" \", end=\" \")\n",
        "  for j in range(i,n-1):\n",
        "    print(\"*\", end=\" \")\n",
        "  for j in range(i,n):\n",
        "    print(\"*\", end=\" \")\n",
        "  print()"
      ]
    },
    {
      "cell_type": "markdown",
      "source": [
        "recurssion"
      ],
      "metadata": {
        "id": "g9b3eQdIXGHJ"
      }
    },
    {
      "cell_type": "code",
      "source": [
        "# factorial\n",
        "def func(n):\n",
        "  if n==0:\n",
        "    return 1\n",
        "  return n*func(n-1)\n",
        "\n",
        "n=4\n",
        "print(func(n))"
      ],
      "metadata": {
        "colab": {
          "base_uri": "https://localhost:8080/"
        },
        "id": "k6EuP9o2b7Ro",
        "outputId": "324fc517-1059-4f29-ab8d-fb47dea6b022"
      },
      "execution_count": null,
      "outputs": [
        {
          "output_type": "stream",
          "name": "stdout",
          "text": [
            "24\n"
          ]
        }
      ]
    },
    {
      "cell_type": "code",
      "source": [
        "# reverse an array\n",
        "def f(i):\n",
        "  if i>n//2:\n",
        "    return\n",
        "  arr[i],arr[n-i-1] = arr[n-i-1],arr[i]\n",
        "  f(i+1)\n",
        "\n",
        "a = [1,2,3,2,1]\n",
        "arr=a.copy()\n",
        "i,n=0,len(arr)\n",
        "f(i)\n",
        "print(a==arr)\n"
      ],
      "metadata": {
        "colab": {
          "base_uri": "https://localhost:8080/"
        },
        "id": "Q52Q5-sOjHae",
        "outputId": "dc981d79-3e4c-40ee-ba11-260f41fef8a5"
      },
      "execution_count": null,
      "outputs": [
        {
          "output_type": "stream",
          "name": "stdout",
          "text": [
            "True\n"
          ]
        }
      ]
    },
    {
      "cell_type": "code",
      "source": [
        "# sum of subarrays = 7 where elements can be taken twice\n",
        "def f(i,res,sum):\n",
        "  if i>=len(arr):\n",
        "    if sum==7:\n",
        "      print(res)\n",
        "    return 0\n",
        "  if sum<=7:\n",
        "    res.append(arr[i])\n",
        "    f(i,res,sum+arr[i])\n",
        "    res.pop()\n",
        "  f(i+1,res,sum)\n",
        "\n",
        "arr=[2,3,6,7]\n",
        "i,sum=0,0\n",
        "print(f(i,[],sum))"
      ],
      "metadata": {
        "id": "jcfZ5shVPZRx",
        "colab": {
          "base_uri": "https://localhost:8080/"
        },
        "outputId": "14c7db12-0dc3-4c3a-97cd-2e128362b7ac"
      },
      "execution_count": 1,
      "outputs": [
        {
          "output_type": "stream",
          "name": "stdout",
          "text": [
            "[2, 2, 3]\n",
            "[7]\n",
            "None\n"
          ]
        }
      ]
    },
    {
      "cell_type": "code",
      "source": [
        "# sum of subarrays = 2\n",
        "def f(i,res,sum):\n",
        "  if i>=len(arr):\n",
        "    if sum==7:\n",
        "      print(res)\n",
        "    return\n",
        "  res.append(arr[i])\n",
        "  l = f(i+1,res,sum+arr[i])\n",
        "  res.pop()\n",
        "  r = f(i+1,res,sum)\n",
        "\n",
        "arr=[2,3,6,7]\n",
        "i,sum=0,0\n",
        "print(f(i,[],sum))"
      ],
      "metadata": {
        "colab": {
          "base_uri": "https://localhost:8080/"
        },
        "id": "mjuLIeJuRuOc",
        "outputId": "a408c82f-57d5-4db8-91f6-652efcba7e84"
      },
      "execution_count": 6,
      "outputs": [
        {
          "output_type": "stream",
          "name": "stdout",
          "text": [
            "None\n",
            "{(1, 7), (1, 1, 6), (1, 2, 5), (2, 6)}\n"
          ]
        }
      ]
    },
    {
      "cell_type": "code",
      "source": [
        "# sum of subarrays without repeating subsets\n",
        "def f(idx,res,path,target):\n",
        "  if target==0:\n",
        "    res.append(path[:])\n",
        "    return\n",
        "  for i in range(idx,len(arr)):\n",
        "    if i>idx and arr[i]==arr[i-1]:\n",
        "      continue\n",
        "    if arr[i]>target:\n",
        "      break\n",
        "    path.append(arr[i])\n",
        "    f(i+1,res,path,target-arr[i])\n",
        "    path.pop()\n",
        "\n",
        "arr=[1,1,1,2,2] #sorted\n",
        "res=[]\n",
        "f(0,res,[],4)\n",
        "print(res)"
      ],
      "metadata": {
        "colab": {
          "base_uri": "https://localhost:8080/"
        },
        "id": "aGnmyxcka4Nn",
        "outputId": "df87e3e2-8198-469c-b181-a7aedf850194"
      },
      "execution_count": 24,
      "outputs": [
        {
          "output_type": "stream",
          "name": "stdout",
          "text": [
            "[[1, 1, 2], [2, 2]]\n"
          ]
        }
      ]
    },
    {
      "cell_type": "code",
      "source": [
        "# all permutations\n",
        "def f(idx,res,path):\n",
        "  if len(path)==len(arr):\n",
        "    res.append(path[:])\n",
        "  for i in range(idx,len(arr)):\n",
        "    arr[idx],arr[i] = arr[i],arr[idx]\n",
        "    path.append(arr[idx])\n",
        "    f(idx+1,res,path)\n",
        "    path.pop()\n",
        "    arr[idx],arr[i] = arr[i],arr[idx]\n",
        "\n",
        "arr=[1,2,3]\n",
        "res=[]\n",
        "f(0,res,[])\n",
        "print(res)"
      ],
      "metadata": {
        "colab": {
          "base_uri": "https://localhost:8080/"
        },
        "id": "8Ua11pt14LBO",
        "outputId": "cd72abf3-0f5d-4a83-c8aa-a5bd8a0d0afe"
      },
      "execution_count": 26,
      "outputs": [
        {
          "output_type": "stream",
          "name": "stdout",
          "text": [
            "[[1, 2, 3], [1, 3, 2], [2, 1, 3], [2, 3, 1], [3, 2, 1], [3, 1, 2]]\n"
          ]
        }
      ]
    },
    {
      "cell_type": "markdown",
      "source": [
        "hello"
      ],
      "metadata": {
        "id": "4BJ9NjnESfRK"
      }
    }
  ]
}